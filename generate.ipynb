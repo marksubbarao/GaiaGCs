{
 "cells": [
  {
   "cell_type": "markdown",
   "metadata": {},
   "source": [
    "# Gaia Globular Cluster Orbits\n",
    "from here: https://www.astro.rug.nl/~ahelmi/research/dr2-dggc/gaia-dr2-dggc-2.pdf with past orbits calculated using astro-gala"
   ]
  },
  {
   "cell_type": "markdown",
   "metadata": {},
   "source": [
    "### Imports and function definitions"
   ]
  },
  {
   "cell_type": "code",
   "execution_count": 139,
   "metadata": {
    "collapsed": false
   },
   "outputs": [],
   "source": [
    "#This directory contains all the data needed for the module. It should be in the same directory as the notebook\n",
    "dataFolder = \"data\" \n",
    "import sys, os, shutil, errno, string, urllib.request, math, copy\n",
    "sys.path.append(( os.path.abspath( os.path.join(os.path.realpath(\"__file__\"), os.pardir, os.pardir) )))\n",
    "import uvmodlib.v1 as uvmod\n",
    "from config import Settings\n"
   ]
  },
  {
   "cell_type": "markdown",
   "metadata": {},
   "source": [
    "### USES Conf Template"
   ]
  },
  {
   "cell_type": "code",
   "execution_count": 140,
   "metadata": {
    "collapsed": true
   },
   "outputs": [],
   "source": [
    "Template = \"\"\"mesh\n",
    "{\n",
    "    data  gcOrbits ./modules/$folderName/data/Gaia_GCs.raw\n",
    "    dataHints gcOrbits disablePostprocessing\n",
    "    glslVersion 330 \n",
    "    enableTypeCheck true\n",
    "    \n",
    "    propertyCollection\n",
    "    {\n",
    "        __objectName__\n",
    "        {\n",
    "            vec1f trailLength 25\n",
    "            vec1f trailWidth 50.0\n",
    "            vec4f trailColor 0.4 0.1\\5 1.0 1.0\n",
    "        }\n",
    "    }\n",
    "\n",
    "    pass\n",
    "    {\n",
    "        useDataObject gcOrbits\n",
    "        shader\n",
    "        {\n",
    "            type defaultMeshShader\n",
    "            {\n",
    "                StateManagerVar __objectName__.trailLength trailLength\n",
    "                StateManagerVar __objectName__.trailWidth trailWidth\n",
    "                StateManagerVar __objectName__.trailColor trailColor\n",
    "                StateManagerVar __objectName__.Alpha alpha\n",
    "                vertexShader ./modules/$folderName/shaders/vertex.glsl\n",
    "                fragmentShader ./modules/$folderName/shaders/trails_fragment.glsl\n",
    "                geometryShader ./modules/$folderName/shaders/trails_geometry.glsl\n",
    "            }\n",
    "        }\n",
    "    }\n",
    "\n",
    "}\"\"\""
   ]
  },
  {
   "cell_type": "markdown",
   "metadata": {},
   "source": [
    "### Gaia GC Class"
   ]
  },
  {
   "cell_type": "code",
   "execution_count": 141,
   "metadata": {
    "collapsed": false
   },
   "outputs": [],
   "source": [
    "class GaiaGCs():\n",
    "    def __init__(self, object):\n",
    "        self.object = object\n",
    "        uvmod.Utility.ensurerelativepathexsists(\"shaders\\\\trails_geometry.glsl\",dataFolder)\n",
    "        uvmod.Utility.ensurerelativepathexsists(\"shaders\\\\trails_fragment.glsl\",dataFolder)\n",
    "        uvmod.Utility.ensurerelativepathexsists(\"shaders\\\\vertex.glsl\",dataFolder)\n",
    "        self.Alpha = 0.75\n",
    "    def setAlpha(self,Alpha):\n",
    "        self.Alpha = Alpha\n",
    "    def generatemod(self):\n",
    "        self.object.setgeometry(self.object.name+\".usesconf\")\n",
    "        return self.object.generatemod()\n",
    "    def generatefiles(self, absOutDir, relOutDir):\n",
    "        fileName = self.object.name+\".usesconf\"\n",
    "        s = string.Template(Template)\n",
    "        f = open(absOutDir+\"\\\\\"+fileName, 'w')\n",
    "        if f:\n",
    "            f.write(s.substitute(folderName = relOutDir))\n",
    "            f.close()\n",
    "        uvmod.Utility.copyfoldercontents(os.getcwd()+\"\\\\\"+dataFolder, absOutDir)"
   ]
  },
  {
   "cell_type": "markdown",
   "metadata": {},
   "source": [
    "### Object Instantiation"
   ]
  },
  {
   "cell_type": "code",
   "execution_count": 142,
   "metadata": {
    "collapsed": false
   },
   "outputs": [],
   "source": [
    "model = GaiaGCs(uvmod.OrbitalObject())\n",
    "generator = uvmod.Generator()\n",
    "scene = uvmod.Scene()\n",
    "modinfo = uvmod.ModuleInformation()"
   ]
  },
  {
   "cell_type": "markdown",
   "metadata": {},
   "source": [
    "### Specify Settings and generate the module"
   ]
  },
  {
   "cell_type": "code",
   "execution_count": 143,
   "metadata": {
    "collapsed": false
   },
   "outputs": [],
   "source": [
    "model.object.setcameraradius(1.0)\n",
    "model.object.setcoord(\"MilkyWay\")\n",
    "model.object.setname(\"GaiaGCs\")\n",
    "model.object.setguiname(\"/Milky Way/Gaia/Globular Cluster Orbits\")\n",
    "model.object.settargetradius(10)\n",
    "model.object.setscalefactor(1.0)\n",
    "model.object.showatstartup(False)\n",
    "modinfo.setname(\"Gaia Globular Cluster Orbits\")\n",
    "modinfo.setauthor(\"Mark SubbaRao<br />Adler Planetarium\")\n",
    "modinfo.cleardependencies()\n",
    "modinfo.setdesc(\"Gaia Globular Cluster Orbits from Helmi et. al 2018\")\n",
    "modinfo.setthumbnail(\"data/images/thumbnail.png\")\n",
    "modinfo.setversion(\"1.0\")\n",
    "\n",
    "generator.generate(\"GaiaGCs\",[],[model],modinfo)"
   ]
  },
  {
   "cell_type": "markdown",
   "metadata": {},
   "source": [
    "### Helper Functions for modifing code\n",
    "##### Reload Module and Shaders in Uniview"
   ]
  },
  {
   "cell_type": "code",
   "execution_count": 6,
   "metadata": {
    "collapsed": false
   },
   "outputs": [],
   "source": [
    "uvmod.Utility.senduvcommand(model.object.name+\".reload; system.reloadallshaders\")"
   ]
  },
  {
   "cell_type": "markdown",
   "metadata": {},
   "source": [
    "##### Copy modified Shader files and reload"
   ]
  },
  {
   "cell_type": "code",
   "execution_count": 123,
   "metadata": {
    "collapsed": false
   },
   "outputs": [],
   "source": [
    "uvmod.Utility.copyfoldercontents(os.getcwd()+\"\\\\\"+dataFolder+'\\\\shaders', Settings.uvcustommodulelocation+'\\\\'+model.object.name+'\\\\shaders')\n",
    "uvmod.Utility.senduvcommand(model.object.name+\".reload; system.reloadallshaders\")"
   ]
  },
  {
   "cell_type": "code",
   "execution_count": null,
   "metadata": {
    "collapsed": true
   },
   "outputs": [],
   "source": []
  }
 ],
 "metadata": {
  "anaconda-cloud": {},
  "kernelspec": {
   "display_name": "Python [default]",
   "language": "python",
   "name": "python3"
  },
  "language_info": {
   "codemirror_mode": {
    "name": "ipython",
    "version": 3
   },
   "file_extension": ".py",
   "mimetype": "text/x-python",
   "name": "python",
   "nbconvert_exporter": "python",
   "pygments_lexer": "ipython3",
   "version": "3.5.2"
  }
 },
 "nbformat": 4,
 "nbformat_minor": 0
}
